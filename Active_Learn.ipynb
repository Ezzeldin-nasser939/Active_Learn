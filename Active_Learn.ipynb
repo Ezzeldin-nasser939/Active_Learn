{
  "nbformat": 4,
  "nbformat_minor": 0,
  "metadata": {
    "colab": {
      "provenance": [],
      "collapsed_sections": [
        "ba4LRIE4A0rb",
        "-X1xU2TI4gi6",
        "76cq-MyU0sUs",
        "RjwdeFCP3CXY"
      ],
      "authorship_tag": "ABX9TyPtUY2mx1ekCL1kX+Zxv6f2",
      "include_colab_link": true
    },
    "kernelspec": {
      "name": "python3",
      "display_name": "Python 3"
    },
    "language_info": {
      "name": "python"
    }
  },
  "cells": [
    {
      "cell_type": "markdown",
      "metadata": {
        "id": "view-in-github",
        "colab_type": "text"
      },
      "source": [
        "<a href=\"https://colab.research.google.com/github/Ezzeldin-nasser939/Active_Learn/blob/main/Active_Learn.ipynb\" target=\"_parent\"><img src=\"https://colab.research.google.com/assets/colab-badge.svg\" alt=\"Open In Colab\"/></a>"
      ]
    },
    {
      "cell_type": "markdown",
      "source": [
        "# ***Imports***"
      ],
      "metadata": {
        "id": "ba4LRIE4A0rb"
      }
    },
    {
      "cell_type": "code",
      "execution_count": null,
      "metadata": {
        "id": "k-BYpRpjMJmQ",
        "colab": {
          "base_uri": "https://localhost:8080/"
        },
        "outputId": "ab7814e9-256c-4da1-9ea5-41b0a71a52b2"
      },
      "outputs": [
        {
          "output_type": "stream",
          "name": "stdout",
          "text": [
            "fatal: destination path 'modAL' already exists and is not an empty directory.\n"
          ]
        }
      ],
      "source": [
        "!git clone https://github.com/modAL-python/modAL"
      ]
    },
    {
      "cell_type": "code",
      "source": [
        "%cd /content/modAL\n",
        "%pip install -qr rtd_requirements.txt"
      ],
      "metadata": {
        "colab": {
          "base_uri": "https://localhost:8080/"
        },
        "id": "qtYg40AydwzQ",
        "outputId": "35cece7f-e492-4352-e1e5-b56eaf9e9987"
      },
      "execution_count": null,
      "outputs": [
        {
          "output_type": "stream",
          "name": "stdout",
          "text": [
            "/content/modAL\n"
          ]
        }
      ]
    },
    {
      "cell_type": "code",
      "source": [
        "import numpy as np\n",
        "import random\n",
        "from sklearn import datasets\n",
        "import matplotlib.pyplot as plt\n",
        "from keras.datasets import mnist ,fashion_mnist\n",
        "from modAL.models import ActiveLearner\n",
        "from modAL.uncertainty import entropy_sampling ,uncertainty_sampling ,margin_sampling\n",
        "from sklearn.ensemble import RandomForestClassifier\n",
        "from sklearn.model_selection import train_test_split"
      ],
      "metadata": {
        "id": "hHla6vFvelVM"
      },
      "execution_count": null,
      "outputs": []
    },
    {
      "cell_type": "markdown",
      "source": [
        "# ***Balanced 3&9 Minist Data***"
      ],
      "metadata": {
        "id": "-X1xU2TI4gi6"
      }
    },
    {
      "cell_type": "code",
      "source": [
        "(X_train,y_train),(X_test,y_test)=mnist.load_data()"
      ],
      "metadata": {
        "id": "jr-2LRf1g7dj",
        "colab": {
          "base_uri": "https://localhost:8080/"
        },
        "outputId": "7307581f-11a2-425f-9417-e3fabff08bd1"
      },
      "execution_count": null,
      "outputs": [
        {
          "output_type": "stream",
          "name": "stdout",
          "text": [
            "Downloading data from https://storage.googleapis.com/tensorflow/tf-keras-datasets/mnist.npz\n",
            "11490434/11490434 [==============================] - 0s 0us/step\n"
          ]
        }
      ]
    },
    {
      "cell_type": "code",
      "source": [
        "three=[]\n",
        "three_lable=[]\n",
        "nine=[]\n",
        "nine_lable=[]\n",
        "for i in range(len(y_train)):\n",
        "   if  y_train[i] == 3 :\n",
        "       three.append(X_train[i])\n",
        "       three_lable.append(y_train[i])\n",
        "   if  y_train[i] == 9 :\n",
        "       nine.append(X_train[i])\n",
        "       nine_lable.append(y_train[i])"
      ],
      "metadata": {
        "id": "7xa9H5QH9ReL"
      },
      "execution_count": null,
      "outputs": []
    },
    {
      "cell_type": "code",
      "source": [
        "x=np.concatenate((three,nine),axis=0)\n",
        "y=np.concatenate((three_lable,nine_lable),axis=0)"
      ],
      "metadata": {
        "id": "xY-vB_FG9xVJ"
      },
      "execution_count": null,
      "outputs": []
    },
    {
      "cell_type": "code",
      "source": [
        "x.shape"
      ],
      "metadata": {
        "colab": {
          "base_uri": "https://localhost:8080/"
        },
        "id": "lzrOgWED993f",
        "outputId": "1b489c55-49db-4b60-d778-96844f072426"
      },
      "execution_count": null,
      "outputs": [
        {
          "output_type": "execute_result",
          "data": {
            "text/plain": [
              "(12080, 28, 28)"
            ]
          },
          "metadata": {},
          "execution_count": 65
        }
      ]
    },
    {
      "cell_type": "code",
      "source": [
        "y.shape"
      ],
      "metadata": {
        "colab": {
          "base_uri": "https://localhost:8080/"
        },
        "id": "fnC8Mo4MAGKx",
        "outputId": "d9112c96-4d0f-48c8-f484-d4db3c991730"
      },
      "execution_count": null,
      "outputs": [
        {
          "output_type": "execute_result",
          "data": {
            "text/plain": [
              "(12080,)"
            ]
          },
          "metadata": {},
          "execution_count": 66
        }
      ]
    },
    {
      "cell_type": "code",
      "source": [
        "s = list(zip(x, y))\n",
        "\n",
        "random.shuffle(s)\n",
        "\n",
        "x, y = zip(*s)"
      ],
      "metadata": {
        "id": "NFSD2I2v-8kx"
      },
      "execution_count": null,
      "outputs": []
    },
    {
      "cell_type": "code",
      "source": [
        "x=np.array(x)\n",
        "y=np.array(y)"
      ],
      "metadata": {
        "id": "OxliEi7d_zYU"
      },
      "execution_count": null,
      "outputs": []
    },
    {
      "cell_type": "code",
      "source": [
        "x = x.reshape((-1,784))\n",
        "X_training=x[0:20]\n",
        "y_training=y[0:20]\n",
        "X_pool=x[20:-1]\n",
        "y_pool=y[20:-1]"
      ],
      "metadata": {
        "id": "TMJHTvj99xVK"
      },
      "execution_count": null,
      "outputs": []
    },
    {
      "cell_type": "code",
      "source": [
        "X_training.shape"
      ],
      "metadata": {
        "colab": {
          "base_uri": "https://localhost:8080/"
        },
        "id": "rqLiPMbJj3mQ",
        "outputId": "1a36d0ba-128d-4a63-99a9-91b2e74309b6"
      },
      "execution_count": null,
      "outputs": [
        {
          "output_type": "execute_result",
          "data": {
            "text/plain": [
              "(20, 784)"
            ]
          },
          "metadata": {},
          "execution_count": 70
        }
      ]
    },
    {
      "cell_type": "code",
      "source": [
        "y_training.shape"
      ],
      "metadata": {
        "colab": {
          "base_uri": "https://localhost:8080/"
        },
        "id": "3uhe_7xQABXO",
        "outputId": "89dd3924-6598-4db2-c691-56cce6fc754c"
      },
      "execution_count": null,
      "outputs": [
        {
          "output_type": "execute_result",
          "data": {
            "text/plain": [
              "(20,)"
            ]
          },
          "metadata": {},
          "execution_count": 71
        }
      ]
    },
    {
      "cell_type": "code",
      "source": [
        "learner_entropy_sampling = ActiveLearner(\n",
        "estimator=RandomForestClassifier(n_estimators=100),\n",
        "query_strategy=entropy_sampling,\n",
        "X_training=X_training,\n",
        "y_training=y_training,\n",
        ")\n",
        "print(\"entropy sampling\")\n",
        "scores_entropy_sampling = []\n",
        "score = 0\n",
        "n_queries = 20\n",
        "for idx in range(n_queries):\n",
        "    query_idx, query_instance = learner_entropy_sampling.query(X_pool)\n",
        "    learner_entropy_sampling.teach (X=X_pool[query_idx] , y=y_pool[query_idx] )\n",
        "    score = learner_entropy_sampling.score(x, y)\n",
        "    scores_entropy_sampling.append(score)\n",
        "    print('Query no. %d' % (idx + 1),\"The Score\",score)"
      ],
      "metadata": {
        "colab": {
          "base_uri": "https://localhost:8080/"
        },
        "id": "QDtimsOIZIth",
        "outputId": "1f031f7e-a9db-4a40-e7d2-f255daf78d84"
      },
      "execution_count": null,
      "outputs": [
        {
          "output_type": "stream",
          "name": "stdout",
          "text": [
            "entropy sampling\n",
            "Query no. 1 The Score 0.8835264900662252\n",
            "Query no. 2 The Score 0.9175496688741722\n",
            "Query no. 3 The Score 0.9335264900662251\n",
            "Query no. 4 The Score 0.9318708609271523\n",
            "Query no. 5 The Score 0.9254139072847682\n",
            "Query no. 6 The Score 0.9341887417218543\n",
            "Query no. 7 The Score 0.9230960264900663\n",
            "Query no. 8 The Score 0.9403145695364239\n",
            "Query no. 9 The Score 0.957864238410596\n",
            "Query no. 10 The Score 0.9456953642384106\n",
            "Query no. 11 The Score 0.9576986754966887\n",
            "Query no. 12 The Score 0.9519867549668874\n",
            "Query no. 13 The Score 0.9564569536423841\n",
            "Query no. 14 The Score 0.9595198675496689\n",
            "Query no. 15 The Score 0.9611754966887417\n",
            "Query no. 16 The Score 0.9618377483443709\n",
            "Query no. 17 The Score 0.9689569536423841\n",
            "Query no. 18 The Score 0.9604304635761589\n",
            "Query no. 19 The Score 0.9706125827814569\n",
            "Query no. 20 The Score 0.9601821192052981\n"
          ]
        }
      ]
    },
    {
      "cell_type": "code",
      "source": [
        "learner_uncertainty_sampling = ActiveLearner(\n",
        "estimator=RandomForestClassifier(n_estimators=100),\n",
        "query_strategy=uncertainty_sampling,\n",
        "X_training=X_training,\n",
        "y_training=y_training,\n",
        ")\n",
        "print(\"uncertainty sampling\")\n",
        "scores_uncertainty_sampling=[]\n",
        "n_queries = 20\n",
        "for idx in range(n_queries):\n",
        "    query_idx, query_instance = learner_uncertainty_sampling.query(X_pool)\n",
        "    learner_uncertainty_sampling.teach (X=X_pool[query_idx] , y=y_pool[query_idx] )\n",
        "    score = learner_uncertainty_sampling.score(x, y)\n",
        "    scores_uncertainty_sampling.append(score)\n",
        "    print('Query no. %d' % (idx + 1),\"The Score\",score)"
      ],
      "metadata": {
        "colab": {
          "base_uri": "https://localhost:8080/"
        },
        "id": "Gf4f2c9GgN3v",
        "outputId": "5dc71d16-9447-4ec8-ec04-faf962a4337c"
      },
      "execution_count": null,
      "outputs": [
        {
          "output_type": "stream",
          "name": "stdout",
          "text": [
            "uncertainty sampling\n",
            "Query no. 1 The Score 0.9184602649006622\n",
            "Query no. 2 The Score 0.8964403973509933\n",
            "Query no. 3 The Score 0.9064569536423841\n",
            "Query no. 4 The Score 0.9139072847682119\n",
            "Query no. 5 The Score 0.9436258278145695\n",
            "Query no. 6 The Score 0.9375827814569536\n",
            "Query no. 7 The Score 0.9520695364238411\n",
            "Query no. 8 The Score 0.9550496688741722\n",
            "Query no. 9 The Score 0.952317880794702\n",
            "Query no. 10 The Score 0.9586920529801325\n",
            "Query no. 11 The Score 0.9562913907284768\n",
            "Query no. 12 The Score 0.9530629139072848\n",
            "Query no. 13 The Score 0.9551324503311258\n",
            "Query no. 14 The Score 0.9517384105960265\n",
            "Query no. 15 The Score 0.9502483443708609\n",
            "Query no. 16 The Score 0.9606788079470199\n",
            "Query no. 17 The Score 0.9506622516556291\n",
            "Query no. 18 The Score 0.9571192052980132\n",
            "Query no. 19 The Score 0.9585264900662251\n",
            "Query no. 20 The Score 0.9605132450331125\n"
          ]
        }
      ]
    },
    {
      "cell_type": "code",
      "source": [
        "learner_margin_sampling = ActiveLearner(\n",
        "estimator=RandomForestClassifier(n_estimators=100),\n",
        "query_strategy=margin_sampling,\n",
        "X_training=X_training,\n",
        "y_training=y_training,\n",
        ")\n",
        "print(\"margin sampling\")\n",
        "n_queries = 20\n",
        "scores_margin_sampling=[]\n",
        "for idx in range(n_queries):\n",
        "    query_idx, query_instance = learner_margin_sampling.query(X_pool)\n",
        "    learner_margin_sampling.teach (X=X_pool[query_idx] , y=y_pool[query_idx] )\n",
        "    score = learner_margin_sampling.score(x, y)\n",
        "    scores_margin_sampling.append(score)\n",
        "    print('Query no. %d' % (idx + 1),\"The Score\",score)"
      ],
      "metadata": {
        "colab": {
          "base_uri": "https://localhost:8080/"
        },
        "id": "29wCRUqdhOfp",
        "outputId": "306f1c8c-0e57-4f16-e256-1d41e487e9ba"
      },
      "execution_count": null,
      "outputs": [
        {
          "output_type": "stream",
          "name": "stdout",
          "text": [
            "margin sampling\n",
            "Query no. 1 The Score 0.9291390728476822\n",
            "Query no. 2 The Score 0.9317880794701987\n",
            "Query no. 3 The Score 0.9331125827814569\n",
            "Query no. 4 The Score 0.9233443708609271\n",
            "Query no. 5 The Score 0.9361754966887417\n",
            "Query no. 6 The Score 0.9258278145695364\n",
            "Query no. 7 The Score 0.9336092715231789\n",
            "Query no. 8 The Score 0.9343543046357616\n",
            "Query no. 9 The Score 0.9452814569536424\n",
            "Query no. 10 The Score 0.9303807947019868\n",
            "Query no. 11 The Score 0.9481788079470199\n",
            "Query no. 12 The Score 0.9556291390728476\n",
            "Query no. 13 The Score 0.954635761589404\n",
            "Query no. 14 The Score 0.9551324503311258\n",
            "Query no. 15 The Score 0.9485099337748344\n",
            "Query no. 16 The Score 0.9598509933774835\n",
            "Query no. 17 The Score 0.9499172185430463\n",
            "Query no. 18 The Score 0.9587748344370861\n",
            "Query no. 19 The Score 0.9506622516556291\n",
            "Query no. 20 The Score 0.9602649006622517\n"
          ]
        }
      ]
    },
    {
      "cell_type": "code",
      "source": [
        "def random_sampling(classifier, X_pool):\n",
        "    n_samples = len(X_pool)\n",
        "    query_idx = np.random.choice(range(n_samples))\n",
        "    return [query_idx], X_pool[query_idx]"
      ],
      "metadata": {
        "id": "Pvt7CdBNlG6I"
      },
      "execution_count": null,
      "outputs": []
    },
    {
      "cell_type": "code",
      "source": [
        "learner_random_sampling = ActiveLearner(\n",
        "    estimator=RandomForestClassifier(n_estimators=100),\n",
        "    query_strategy=random_sampling,\n",
        "    X_training=X_training, y_training=y_training\n",
        ")\n",
        "print(\"random sampling\")\n",
        "n_queries = 20\n",
        "scores_random_sampling=[]\n",
        "for idx in range(n_queries):\n",
        "    query_idx, query_instance = learner_random_sampling.query(X_pool)\n",
        "    learner_random_sampling.teach (X=X_pool[query_idx] , y=y_pool[query_idx] )\n",
        "    score = learner_random_sampling.score(x, y)\n",
        "    scores_random_sampling.append(score)\n",
        "    print('Query no. %d' % (idx + 1),\"The Score\",score)"
      ],
      "metadata": {
        "colab": {
          "base_uri": "https://localhost:8080/"
        },
        "id": "0EJBMWcTlJXw",
        "outputId": "1d8dcfab-689f-4293-f644-d78a042dc9b5"
      },
      "execution_count": null,
      "outputs": [
        {
          "output_type": "stream",
          "name": "stdout",
          "text": [
            "random sampling\n",
            "Query no. 1 The Score 0.9091887417218543\n",
            "Query no. 2 The Score 0.9004139072847682\n",
            "Query no. 3 The Score 0.9147350993377483\n",
            "Query no. 4 The Score 0.9187913907284768\n",
            "Query no. 5 The Score 0.9278145695364238\n",
            "Query no. 6 The Score 0.919205298013245\n",
            "Query no. 7 The Score 0.9149006622516557\n",
            "Query no. 8 The Score 0.925\n",
            "Query no. 9 The Score 0.9325331125827815\n",
            "Query no. 10 The Score 0.9355132450331126\n",
            "Query no. 11 The Score 0.9364238410596026\n",
            "Query no. 12 The Score 0.93658940397351\n",
            "Query no. 13 The Score 0.937251655629139\n",
            "Query no. 14 The Score 0.937251655629139\n",
            "Query no. 15 The Score 0.9424668874172185\n",
            "Query no. 16 The Score 0.9490066225165563\n",
            "Query no. 17 The Score 0.9458609271523178\n",
            "Query no. 18 The Score 0.9475993377483444\n",
            "Query no. 19 The Score 0.9577814569536424\n",
            "Query no. 20 The Score 0.9512417218543047\n"
          ]
        }
      ]
    },
    {
      "cell_type": "code",
      "source": [
        "fig, ax = plt.subplots(figsize=(5, 5), dpi=130)\n",
        "\n",
        "ax.plot(scores_random_sampling, label='random_sampling')\n",
        "\n",
        "ax.plot(scores_margin_sampling, label='margin_sampling')\n",
        "\n",
        "ax.plot(scores_entropy_sampling, label='entropy_sampling')\n",
        "\n",
        "ax.plot(scores_uncertainty_sampling, label='uncertainty_sampling')\n",
        "\n",
        "ax.set_ylim(bottom=0, top=1)\n",
        "ax.grid(True)\n",
        "\n",
        "ax.set_title('Incremental classification accuracy for balanced data')\n",
        "ax.set_xlabel('Query iteration')\n",
        "ax.set_ylabel('Classification Accuracy')\n",
        "leg = ax.legend(loc='upper right', frameon=False);\n",
        "plt.show()"
      ],
      "metadata": {
        "colab": {
          "base_uri": "https://localhost:8080/",
          "height": 626
        },
        "id": "doQaijg-qqmK",
        "outputId": "3d4b37d6-fbed-4983-bc04-614465f3d170"
      },
      "execution_count": null,
      "outputs": [
        {
          "output_type": "display_data",
          "data": {
            "text/plain": [
              "<Figure size 650x650 with 1 Axes>"
            ],
            "image/png": "[encoded data removed]"
          },
          "metadata": {}
        }
      ]
    },
    {
      "cell_type": "code",
      "source": [
        "from sklearn.metrics import accuracy_score\n",
        "\n",
        "# evaluate the performance of the active learning models on the test set\n",
        "y_pred_entropy = learner_entropy_sampling.predict(x)\n",
        "acc_entropy = accuracy_score(y, y_pred_entropy)\n",
        "\n",
        "y_pred_uncertainty = learner_uncertainty_sampling.predict(x)\n",
        "acc_uncertainty = accuracy_score(y, y_pred_uncertainty)\n",
        "\n",
        "y_pred_margin = learner_margin_sampling.predict(x)\n",
        "acc_margin = accuracy_score(y, y_pred_margin)\n",
        "\n",
        "y_pred_random = learner_random_sampling.predict(x)\n",
        "acc_random = accuracy_score(y, y_pred_random)\n",
        "\n",
        "# print the accuracy score for each model\n",
        "print(\"Accuracy score uncertainty sampling = \",acc_uncertainty)\n",
        "print(\"Accuracy score margin sampling = \",acc_margin)\n",
        "print(\"Accuracy score entropy sampling = \",acc_entropy)\n",
        "print(\"Accuracy score random sampling = \",acc_random)"
      ],
      "metadata": {
        "colab": {
          "base_uri": "https://localhost:8080/"
        },
        "id": "qimwr6j6Yvkk",
        "outputId": "71b2167c-8ff8-4471-a056-834fdc626664"
      },
      "execution_count": null,
      "outputs": [
        {
          "output_type": "stream",
          "name": "stdout",
          "text": [
            "Accuracy score uncertainty sampling =  0.9605132450331125\n",
            "Accuracy score margin sampling =  0.9602649006622517\n",
            "Accuracy score entropy sampling =  0.9601821192052981\n",
            "Accuracy score random sampling =  0.9512417218543047\n"
          ]
        }
      ]
    },
    {
      "cell_type": "markdown",
      "source": [
        "# **Unbalanced 0&8 Minist Data**"
      ],
      "metadata": {
        "id": "76cq-MyU0sUs"
      }
    },
    {
      "cell_type": "code",
      "source": [
        "(X_train,y_train),(X_test,y_test)=mnist.load_data()"
      ],
      "metadata": {
        "id": "K3hf2Ml00ro8"
      },
      "execution_count": null,
      "outputs": []
    },
    {
      "cell_type": "code",
      "source": [
        "zero=[]\n",
        "zero_lable=[]\n",
        "zero_count=0\n",
        "eight=[]\n",
        "eight_lable=[]\n",
        "eight_count=0\n",
        "for i in range(len(y_train)):\n",
        "   if  y_train[i] ==0 and zero_count<100:\n",
        "       zero.append(X_train[i])\n",
        "       zero_lable.append(y_train[i])\n",
        "       zero_count+=1\n",
        "   if  y_train[i] ==8 and eight_count<1000:\n",
        "       eight.append(X_train[i])\n",
        "       eight_lable.append(y_train[i])\n",
        "       eight_count+=1"
      ],
      "metadata": {
        "id": "OXdQJ0JN08fG"
      },
      "execution_count": null,
      "outputs": []
    },
    {
      "cell_type": "code",
      "source": [
        "x=np.concatenate((zero,eight),axis=0)\n",
        "y=np.concatenate((zero_lable,eight_lable),axis=0)"
      ],
      "metadata": {
        "id": "H-ttOBDc0_ku"
      },
      "execution_count": null,
      "outputs": []
    },
    {
      "cell_type": "code",
      "source": [
        "x = x.reshape((-1,784))\n",
        "X_training=x[0:100]\n",
        "y_training=y[0:100]\n",
        "X_pool=x[100:-1]\n",
        "y_pool=y[100:-1]\n"
      ],
      "metadata": {
        "id": "8qFbwktgFoJi"
      },
      "execution_count": null,
      "outputs": []
    },
    {
      "cell_type": "code",
      "source": [
        "learner_entropy_sampling = ActiveLearner(\n",
        "estimator=RandomForestClassifier(n_estimators=100),\n",
        "query_strategy=entropy_sampling,\n",
        "X_training=X_training,\n",
        "y_training=y_training,\n",
        ")\n",
        "print(\"entropy sampling\")\n",
        "score = 0\n",
        "scores_entropy_sampling = []\n",
        "n_queries = 20\n",
        "for idx in range(n_queries):\n",
        "    query_idx, query_instance = learner_entropy_sampling.query(X_pool)\n",
        "    learner_entropy_sampling.teach (X=X_pool[query_idx] , y=y_pool[query_idx] )\n",
        "    score = learner_entropy_sampling.score(X_pool, y_pool)\n",
        "    scores_entropy_sampling.append(score)\n",
        "    print('Query no. %d' % (idx + 1),\"The Score\",score)"
      ],
      "metadata": {
        "colab": {
          "base_uri": "https://localhost:8080/"
        },
        "outputId": "bf1c943c-a18c-4031-bb65-21945498934c",
        "id": "rKfJyXWIEle1"
      },
      "execution_count": null,
      "outputs": [
        {
          "output_type": "stream",
          "name": "stdout",
          "text": [
            "entropy sampling\n",
            "Query no. 1 The Score 0.001001001001001001\n",
            "Query no. 2 The Score 0.12112112112112113\n",
            "Query no. 3 The Score 0.3483483483483483\n",
            "Query no. 4 The Score 0.5225225225225225\n",
            "Query no. 5 The Score 0.7097097097097097\n",
            "Query no. 6 The Score 0.7577577577577578\n",
            "Query no. 7 The Score 0.7687687687687688\n",
            "Query no. 8 The Score 0.8238238238238238\n",
            "Query no. 9 The Score 0.8808808808808809\n",
            "Query no. 10 The Score 0.8878878878878879\n",
            "Query no. 11 The Score 0.8978978978978979\n",
            "Query no. 12 The Score 0.9119119119119119\n",
            "Query no. 13 The Score 0.9419419419419419\n",
            "Query no. 14 The Score 0.9459459459459459\n",
            "Query no. 15 The Score 0.9669669669669669\n",
            "Query no. 16 The Score 0.95995995995996\n",
            "Query no. 17 The Score 0.9769769769769769\n",
            "Query no. 18 The Score 0.983983983983984\n",
            "Query no. 19 The Score 0.983983983983984\n",
            "Query no. 20 The Score 0.9819819819819819\n"
          ]
        }
      ]
    },
    {
      "cell_type": "code",
      "source": [
        "learner_uncertainty_sampling = ActiveLearner(\n",
        "estimator=RandomForestClassifier(n_estimators=100),\n",
        "query_strategy=uncertainty_sampling,\n",
        "X_training=X_training,\n",
        "y_training=y_training,\n",
        ")\n",
        "print(\"uncertainty sampling\")\n",
        "n_queries = 20\n",
        "scores_uncertainty_sampling = []\n",
        "for idx in range(n_queries):\n",
        "    query_idx, query_instance = learner_uncertainty_sampling.query(X_pool)\n",
        "    learner_uncertainty_sampling.teach (X=X_pool[query_idx] , y=y_pool[query_idx] )\n",
        "    score = learner_uncertainty_sampling.score(x, y)\n",
        "    scores_uncertainty_sampling.append(score)\n",
        "    print('Query no. %d' % (idx + 1),\"The Score\",score)"
      ],
      "metadata": {
        "colab": {
          "base_uri": "https://localhost:8080/"
        },
        "outputId": "dcdd0418-c367-4847-ea6c-615ff2628604",
        "id": "xyg53j-gEle3"
      },
      "execution_count": null,
      "outputs": [
        {
          "output_type": "stream",
          "name": "stdout",
          "text": [
            "uncertainty sampling\n",
            "Query no. 1 The Score 0.11181818181818182\n",
            "Query no. 2 The Score 0.16545454545454547\n",
            "Query no. 3 The Score 0.36272727272727273\n",
            "Query no. 4 The Score 0.5281818181818182\n",
            "Query no. 5 The Score 0.6590909090909091\n",
            "Query no. 6 The Score 0.7827272727272727\n",
            "Query no. 7 The Score 0.84\n",
            "Query no. 8 The Score 0.8618181818181818\n",
            "Query no. 9 The Score 0.9163636363636364\n",
            "Query no. 10 The Score 0.9445454545454546\n",
            "Query no. 11 The Score 0.94\n",
            "Query no. 12 The Score 0.9672727272727273\n",
            "Query no. 13 The Score 0.9672727272727273\n",
            "Query no. 14 The Score 0.9645454545454546\n",
            "Query no. 15 The Score 0.9736363636363636\n",
            "Query no. 16 The Score 0.9772727272727273\n",
            "Query no. 17 The Score 0.9790909090909091\n",
            "Query no. 18 The Score 0.9827272727272728\n",
            "Query no. 19 The Score 0.9818181818181818\n",
            "Query no. 20 The Score 0.9890909090909091\n"
          ]
        }
      ]
    },
    {
      "cell_type": "code",
      "source": [
        "learner_margin_sampling = ActiveLearner(\n",
        "estimator=RandomForestClassifier(n_estimators=100),\n",
        "query_strategy=margin_sampling,\n",
        "X_training=X_training,\n",
        "y_training=y_training,\n",
        ")\n",
        "print(\"margin sampling\")\n",
        "n_queries = 20\n",
        "scores_margin_sampling = []\n",
        "for idx in range(n_queries):\n",
        "    query_idx, query_instance = learner_margin_sampling.query(X_pool)\n",
        "    learner_margin_sampling.teach (X=X_pool[query_idx] , y=y_pool[query_idx] )\n",
        "    score = learner_margin_sampling.score(x, y)\n",
        "    scores_margin_sampling.append(score)\n",
        "    print('Query no. %d' % (idx + 1),\"The Score\",score)"
      ],
      "metadata": {
        "colab": {
          "base_uri": "https://localhost:8080/"
        },
        "outputId": "1185b198-0e05-4847-b4d4-4696d3b5000c",
        "id": "CsIQRN8kEle3"
      },
      "execution_count": null,
      "outputs": [
        {
          "output_type": "stream",
          "name": "stdout",
          "text": [
            "margin sampling\n",
            "Query no. 1 The Score 0.09363636363636364\n",
            "Query no. 2 The Score 0.13090909090909092\n",
            "Query no. 3 The Score 0.36454545454545456\n",
            "Query no. 4 The Score 0.3618181818181818\n",
            "Query no. 5 The Score 0.7218181818181818\n",
            "Query no. 6 The Score 0.7063636363636364\n",
            "Query no. 7 The Score 0.8618181818181818\n",
            "Query no. 8 The Score 0.8981818181818182\n",
            "Query no. 9 The Score 0.8954545454545455\n",
            "Query no. 10 The Score 0.9363636363636364\n",
            "Query no. 11 The Score 0.9372727272727273\n",
            "Query no. 12 The Score 0.9527272727272728\n",
            "Query no. 13 The Score 0.9472727272727273\n",
            "Query no. 14 The Score 0.9736363636363636\n",
            "Query no. 15 The Score 0.9790909090909091\n",
            "Query no. 16 The Score 0.9754545454545455\n",
            "Query no. 17 The Score 0.9763636363636363\n",
            "Query no. 18 The Score 0.9872727272727273\n",
            "Query no. 19 The Score 0.9890909090909091\n",
            "Query no. 20 The Score 0.99\n"
          ]
        }
      ]
    },
    {
      "cell_type": "code",
      "source": [
        "def random_sampling(classifier, X_pool):\n",
        "    n_samples = len(X_pool)\n",
        "    query_idx = np.random.choice(range(n_samples))\n",
        "    return [query_idx], X_pool[query_idx]"
      ],
      "metadata": {
        "id": "MKbFcgSbEle4"
      },
      "execution_count": null,
      "outputs": []
    },
    {
      "cell_type": "code",
      "source": [
        "learner_random_sampling = ActiveLearner(\n",
        "    estimator=RandomForestClassifier(n_estimators=100),\n",
        "    query_strategy=random_sampling,\n",
        "    X_training=X_training, y_training=y_training\n",
        ")\n",
        "print(\"random sampling\")\n",
        "n_queries = 20\n",
        "scores_random_sampling = []\n",
        "for idx in range(n_queries):\n",
        "    query_idx, query_instance = learner_random_sampling.query(X_pool)\n",
        "    learner_random_sampling.teach (X=X_pool[query_idx] , y=y_pool[query_idx] )\n",
        "    score = learner_random_sampling.score(x, y)\n",
        "    scores_random_sampling.append(score)\n",
        "    print('Query no. %d' % (idx + 1),\"The Score\",score)"
      ],
      "metadata": {
        "colab": {
          "base_uri": "https://localhost:8080/"
        },
        "outputId": "b7332e3a-be84-4311-e9d2-6bdcb658c3f3",
        "id": "24fzdcoBEle4"
      },
      "execution_count": null,
      "outputs": [
        {
          "output_type": "stream",
          "name": "stdout",
          "text": [
            "random sampling\n",
            "Query no. 1 The Score 0.09181818181818181\n",
            "Query no. 2 The Score 0.2672727272727273\n",
            "Query no. 3 The Score 0.33636363636363636\n",
            "Query no. 4 The Score 0.5072727272727273\n",
            "Query no. 5 The Score 0.7372727272727273\n",
            "Query no. 6 The Score 0.8390909090909091\n",
            "Query no. 7 The Score 0.8181818181818182\n",
            "Query no. 8 The Score 0.9218181818181819\n",
            "Query no. 9 The Score 0.93\n",
            "Query no. 10 The Score 0.9409090909090909\n",
            "Query no. 11 The Score 0.9627272727272728\n",
            "Query no. 12 The Score 0.96\n",
            "Query no. 13 The Score 0.9636363636363636\n",
            "Query no. 14 The Score 0.9709090909090909\n",
            "Query no. 15 The Score 0.9736363636363636\n",
            "Query no. 16 The Score 0.9545454545454546\n",
            "Query no. 17 The Score 0.9845454545454545\n",
            "Query no. 18 The Score 0.9845454545454545\n",
            "Query no. 19 The Score 0.9781818181818182\n",
            "Query no. 20 The Score 0.9790909090909091\n"
          ]
        }
      ]
    },
    {
      "cell_type": "code",
      "source": [
        "fig, ax = plt.subplots(figsize=(5, 5), dpi=130)\n",
        "\n",
        "ax.plot(scores_random_sampling, label='random_sampling')\n",
        "\n",
        "ax.plot(scores_margin_sampling, label='margin_sampling')\n",
        "\n",
        "ax.plot(scores_entropy_sampling, label='entropy_sampling')\n",
        "\n",
        "ax.plot(scores_uncertainty_sampling, label='uncertainty_sampling')\n",
        "\n",
        "ax.set_ylim(bottom=0, top=1)\n",
        "ax.grid(True)\n",
        "\n",
        "ax.set_title('Incremental classification accuracy for Unbalanced data')\n",
        "ax.set_xlabel('Query iteration')\n",
        "ax.set_ylabel('Classification Accuracy')\n",
        "leg = ax.legend(loc='upper right', frameon=False);\n",
        "plt.show()"
      ],
      "metadata": {
        "colab": {
          "base_uri": "https://localhost:8080/",
          "height": 626
        },
        "id": "V0A0btQJ3t3d",
        "outputId": "d6bffd7e-95df-41c0-e624-bf410bf3e38d"
      },
      "execution_count": null,
      "outputs": [
        {
          "output_type": "display_data",
          "data": {
            "text/plain": [
              "<Figure size 650x650 with 1 Axes>"
            ],
            "image/png": "[encoded data removed]"
          },
          "metadata": {}
        }
      ]
    },
    {
      "cell_type": "code",
      "source": [
        "from sklearn.metrics import accuracy_score\n",
        "\n",
        "# evaluate the performance of the active learning models on the test set\n",
        "y_pred_entropy = learner_entropy_sampling.predict(x)\n",
        "acc_entropy = accuracy_score(y, y_pred_entropy)\n",
        "\n",
        "y_pred_uncertainty = learner_uncertainty_sampling.predict(x)\n",
        "acc_uncertainty = accuracy_score(y, y_pred_uncertainty)\n",
        "\n",
        "y_pred_margin = learner_margin_sampling.predict(x)\n",
        "acc_margin = accuracy_score(y, y_pred_margin)\n",
        "\n",
        "y_pred_random = learner_random_sampling.predict(x)\n",
        "acc_random = accuracy_score(y, y_pred_random)\n",
        "\n",
        "# print the accuracy score for each model\n",
        "print(\"Accuracy score uncertainty sampling = \",acc_uncertainty)\n",
        "print(\"Accuracy score margin sampling = \",acc_margin)\n",
        "print(\"Accuracy score entropy sampling = \",acc_entropy)\n",
        "print(\"Accuracy score random sampling = \",acc_random)"
      ],
      "metadata": {
        "colab": {
          "base_uri": "https://localhost:8080/"
        },
        "id": "HMQ0ISVVYxga",
        "outputId": "4948ec0f-449c-4247-c36b-3c6c4b627b89"
      },
      "execution_count": null,
      "outputs": [
        {
          "output_type": "stream",
          "name": "stdout",
          "text": [
            "Accuracy score uncertainty sampling =  0.9890909090909091\n",
            "Accuracy score margin sampling =  0.99\n",
            "Accuracy score entropy sampling =  0.9836363636363636\n",
            "Accuracy score random sampling =  0.9790909090909091\n"
          ]
        }
      ]
    },
    {
      "cell_type": "markdown",
      "source": [
        "# **IRIS Data**"
      ],
      "metadata": {
        "id": "RjwdeFCP3CXY"
      }
    },
    {
      "cell_type": "code",
      "source": [
        "iris = datasets.load_iris()\n",
        "\n",
        "feature = iris.data\n",
        "label = iris.target"
      ],
      "metadata": {
        "id": "dsNPaBxRTBrc"
      },
      "execution_count": null,
      "outputs": []
    },
    {
      "cell_type": "code",
      "source": [
        "X_training=feature[0:50]\n",
        "y_training=label[0:50]\n",
        "X_pool=feature[50:-1]\n",
        "y_pool=label[50:-1]"
      ],
      "metadata": {
        "id": "cGGNgY-sT3g1"
      },
      "execution_count": null,
      "outputs": []
    },
    {
      "cell_type": "code",
      "source": [
        "learner_entropy_sampling = ActiveLearner(\n",
        "estimator=RandomForestClassifier(n_estimators=100),\n",
        "query_strategy=entropy_sampling,\n",
        "X_training=X_training,\n",
        "y_training=y_training,\n",
        ")\n",
        "print(\"entropy sampling\")\n",
        "score = 0\n",
        "n_queries = 20\n",
        "scores_entropy_sampling = []\n",
        "for idx in range(n_queries):\n",
        "    query_idx, query_instance = learner_entropy_sampling.query(X_pool)\n",
        "    learner_entropy_sampling.teach (X=X_pool[query_idx] , y=y_pool[query_idx] )\n",
        "    score = learner_entropy_sampling.score(feature, label)\n",
        "    scores_entropy_sampling.append(score)\n",
        "    print('Query no. %d' % (idx + 1),\"The Score\",score)"
      ],
      "metadata": {
        "colab": {
          "base_uri": "https://localhost:8080/"
        },
        "outputId": "f1174814-a239-4523-89a0-607175f55b61",
        "id": "E0kDi6OaT3g2"
      },
      "execution_count": null,
      "outputs": [
        {
          "output_type": "stream",
          "name": "stdout",
          "text": [
            "entropy sampling\n",
            "Query no. 1 The Score 0.4066666666666667\n",
            "Query no. 2 The Score 0.6\n",
            "Query no. 3 The Score 0.6666666666666666\n",
            "Query no. 4 The Score 0.6666666666666666\n",
            "Query no. 5 The Score 0.6666666666666666\n",
            "Query no. 6 The Score 0.6666666666666666\n",
            "Query no. 7 The Score 0.6666666666666666\n",
            "Query no. 8 The Score 0.6666666666666666\n",
            "Query no. 9 The Score 0.6666666666666666\n",
            "Query no. 10 The Score 0.6666666666666666\n",
            "Query no. 11 The Score 0.6666666666666666\n",
            "Query no. 12 The Score 0.6666666666666666\n",
            "Query no. 13 The Score 0.6666666666666666\n",
            "Query no. 14 The Score 0.6666666666666666\n",
            "Query no. 15 The Score 0.6666666666666666\n",
            "Query no. 16 The Score 0.6666666666666666\n",
            "Query no. 17 The Score 0.68\n",
            "Query no. 18 The Score 0.76\n",
            "Query no. 19 The Score 0.8333333333333334\n",
            "Query no. 20 The Score 0.86\n"
          ]
        }
      ]
    },
    {
      "cell_type": "code",
      "source": [
        "learner_uncertainty_sampling = ActiveLearner(\n",
        "estimator=RandomForestClassifier(n_estimators=100),\n",
        "query_strategy=uncertainty_sampling,\n",
        "X_training=X_training,\n",
        "y_training=y_training,\n",
        ")\n",
        "print(\"uncertainty sampling\")\n",
        "n_queries = 20\n",
        "scores_uncertainty_sampling = []\n",
        "for idx in range(n_queries):\n",
        "    query_idx, query_instance = learner_uncertainty_sampling.query(X_pool)\n",
        "    learner_uncertainty_sampling.teach (X=X_pool[query_idx] , y=y_pool[query_idx] )\n",
        "    score = learner_uncertainty_sampling.score(feature, label)\n",
        "    scores_uncertainty_sampling.append(score)\n",
        "    print('Query no. %d' % (idx + 1),\"The Score\",score)"
      ],
      "metadata": {
        "colab": {
          "base_uri": "https://localhost:8080/"
        },
        "outputId": "619ed88e-3afe-4a23-f890-e91428e953e6",
        "id": "jZZGtyMwT3g3"
      },
      "execution_count": null,
      "outputs": [
        {
          "output_type": "stream",
          "name": "stdout",
          "text": [
            "uncertainty sampling\n",
            "Query no. 1 The Score 0.4066666666666667\n",
            "Query no. 2 The Score 0.6133333333333333\n",
            "Query no. 3 The Score 0.6666666666666666\n",
            "Query no. 4 The Score 0.6666666666666666\n",
            "Query no. 5 The Score 0.6666666666666666\n",
            "Query no. 6 The Score 0.6666666666666666\n",
            "Query no. 7 The Score 0.6666666666666666\n",
            "Query no. 8 The Score 0.6666666666666666\n",
            "Query no. 9 The Score 0.7\n",
            "Query no. 10 The Score 0.7666666666666667\n",
            "Query no. 11 The Score 0.8\n",
            "Query no. 12 The Score 0.8933333333333333\n",
            "Query no. 13 The Score 0.9333333333333333\n",
            "Query no. 14 The Score 0.9533333333333334\n",
            "Query no. 15 The Score 0.96\n",
            "Query no. 16 The Score 0.9466666666666667\n",
            "Query no. 17 The Score 0.9666666666666667\n",
            "Query no. 18 The Score 0.9666666666666667\n",
            "Query no. 19 The Score 0.9533333333333334\n",
            "Query no. 20 The Score 0.9733333333333334\n"
          ]
        }
      ]
    },
    {
      "cell_type": "code",
      "source": [
        "learner_margin_sampling = ActiveLearner(\n",
        "estimator=RandomForestClassifier(n_estimators=100),\n",
        "query_strategy=margin_sampling,\n",
        "X_training=X_training,\n",
        "y_training=y_training,\n",
        ")\n",
        "print(\"margin sampling\")\n",
        "n_queries = 20\n",
        "scores_margin_sampling = []\n",
        "for idx in range(n_queries):\n",
        "    query_idx, query_instance = learner_margin_sampling.query(X_pool)\n",
        "    learner_margin_sampling.teach (X=X_pool[query_idx] , y=y_pool[query_idx] )\n",
        "    score = learner_margin_sampling.score(feature, label)\n",
        "    scores_margin_sampling.append(score)\n",
        "    print('Query no. %d' % (idx + 1),\"The Score\",score)"
      ],
      "metadata": {
        "colab": {
          "base_uri": "https://localhost:8080/"
        },
        "outputId": "9cf5a870-cd3b-4ded-eced-c578b120855d",
        "id": "d4s27dqNT3g3"
      },
      "execution_count": null,
      "outputs": [
        {
          "output_type": "stream",
          "name": "stdout",
          "text": [
            "margin sampling\n",
            "Query no. 1 The Score 0.4066666666666667\n",
            "Query no. 2 The Score 0.6133333333333333\n",
            "Query no. 3 The Score 0.6666666666666666\n",
            "Query no. 4 The Score 0.6666666666666666\n",
            "Query no. 5 The Score 0.6666666666666666\n",
            "Query no. 6 The Score 0.6666666666666666\n",
            "Query no. 7 The Score 0.6666666666666666\n",
            "Query no. 8 The Score 0.6666666666666666\n",
            "Query no. 9 The Score 0.6666666666666666\n",
            "Query no. 10 The Score 0.6666666666666666\n",
            "Query no. 11 The Score 0.6666666666666666\n",
            "Query no. 12 The Score 0.6666666666666666\n",
            "Query no. 13 The Score 0.6666666666666666\n",
            "Query no. 14 The Score 0.6666666666666666\n",
            "Query no. 15 The Score 0.6666666666666666\n",
            "Query no. 16 The Score 0.6666666666666666\n",
            "Query no. 17 The Score 0.6666666666666666\n",
            "Query no. 18 The Score 0.6666666666666666\n",
            "Query no. 19 The Score 0.6666666666666666\n",
            "Query no. 20 The Score 0.6866666666666666\n"
          ]
        }
      ]
    },
    {
      "cell_type": "code",
      "source": [
        "def random_sampling(classifier, X_pool):\n",
        "    n_samples = len(X_pool)\n",
        "    query_idx = np.random.choice(range(n_samples))\n",
        "    return [query_idx], X_pool[query_idx]"
      ],
      "metadata": {
        "id": "v9wRYLBnT3g4"
      },
      "execution_count": null,
      "outputs": []
    },
    {
      "cell_type": "code",
      "source": [
        "learner_random_sampling = ActiveLearner(\n",
        "    estimator=RandomForestClassifier(n_estimators=100),\n",
        "    query_strategy=random_sampling,\n",
        "    X_training=X_training, y_training=y_training\n",
        ")\n",
        "print(\"random sampling\")\n",
        "n_queries = 20\n",
        "scores_random_sampling = []\n",
        "for idx in range(n_queries):\n",
        "    query_idx, query_instance = learner_random_sampling.query(X_pool)\n",
        "    learner_random_sampling.teach (X=X_pool[query_idx] , y=y_pool[query_idx] )\n",
        "    score = learner_random_sampling.score(feature, label)\n",
        "    scores_random_sampling.append(score)\n",
        "    print('Query no. %d' % (idx + 1),\"The Score\",score)"
      ],
      "metadata": {
        "colab": {
          "base_uri": "https://localhost:8080/"
        },
        "outputId": "88c1e720-aa63-434f-83ab-c1a3b14e8d77",
        "id": "cJX6iboKT3g4"
      },
      "execution_count": null,
      "outputs": [
        {
          "output_type": "stream",
          "name": "stdout",
          "text": [
            "random sampling\n",
            "Query no. 1 The Score 0.4866666666666667\n",
            "Query no. 2 The Score 0.6666666666666666\n",
            "Query no. 3 The Score 0.8066666666666666\n",
            "Query no. 4 The Score 0.7933333333333333\n",
            "Query no. 5 The Score 0.74\n",
            "Query no. 6 The Score 0.8466666666666667\n",
            "Query no. 7 The Score 0.9466666666666667\n",
            "Query no. 8 The Score 0.9666666666666667\n",
            "Query no. 9 The Score 0.9733333333333334\n",
            "Query no. 10 The Score 0.9466666666666667\n",
            "Query no. 11 The Score 0.9733333333333334\n",
            "Query no. 12 The Score 0.9733333333333334\n",
            "Query no. 13 The Score 0.9533333333333334\n",
            "Query no. 14 The Score 0.9733333333333334\n",
            "Query no. 15 The Score 0.9533333333333334\n",
            "Query no. 16 The Score 0.9466666666666667\n",
            "Query no. 17 The Score 0.96\n",
            "Query no. 18 The Score 0.9733333333333334\n",
            "Query no. 19 The Score 0.9733333333333334\n",
            "Query no. 20 The Score 0.94\n"
          ]
        }
      ]
    },
    {
      "cell_type": "code",
      "source": [
        "fig, ax = plt.subplots(figsize=(5, 5), dpi=130)\n",
        "\n",
        "ax.plot(scores_random_sampling, label='random_sampling')\n",
        "\n",
        "ax.plot(scores_margin_sampling, label='margin_sampling')\n",
        "\n",
        "ax.plot(scores_entropy_sampling, label='entropy_sampling')\n",
        "\n",
        "ax.plot(scores_uncertainty_sampling, label='uncertainty_sampling')\n",
        "\n",
        "ax.set_ylim(bottom=0, top=1)\n",
        "ax.grid(True)\n",
        "\n",
        "ax.set_title('Incremental classification accuracy for iris data')\n",
        "ax.set_xlabel('Query iteration')\n",
        "ax.set_ylabel('Classification Accuracy')\n",
        "leg = ax.legend(loc='upper right', frameon=False);\n",
        "plt.show()"
      ],
      "metadata": {
        "colab": {
          "base_uri": "https://localhost:8080/",
          "height": 626
        },
        "id": "NIKS-W6S3yV0",
        "outputId": "61391fd7-9af4-4ff5-b952-7b91046d43ad"
      },
      "execution_count": null,
      "outputs": [
        {
          "output_type": "display_data",
          "data": {
            "text/plain": [
              "<Figure size 650x650 with 1 Axes>"
            ],
            "image/png": "[encoded data removed]"
          },
          "metadata": {}
        }
      ]
    },
    {
      "cell_type": "code",
      "source": [
        "from sklearn.metrics import accuracy_score\n",
        "\n",
        "# evaluate the performance of the active learning models on the test set\n",
        "y_pred_entropy = learner_entropy_sampling.predict(feature)\n",
        "acc_entropy = accuracy_score(label, y_pred_entropy)\n",
        "\n",
        "y_pred_uncertainty = learner_uncertainty_sampling.predict(feature)\n",
        "acc_uncertainty = accuracy_score(label, y_pred_uncertainty)\n",
        "\n",
        "y_pred_margin = learner_margin_sampling.predict(feature)\n",
        "acc_margin = accuracy_score(label, y_pred_margin)\n",
        "\n",
        "y_pred_random = learner_random_sampling.predict(feature)\n",
        "acc_random = accuracy_score(label, y_pred_random)\n",
        "\n",
        "# print the accuracy score for each model\n",
        "print(\"Accuracy score uncertainty sampling = \",acc_uncertainty)\n",
        "print(\"Accuracy score margin sampling = \",acc_margin)\n",
        "print(\"Accuracy score entropy sampling = \",acc_entropy)\n",
        "print(\"Accuracy score random sampling = \",acc_random)"
      ],
      "metadata": {
        "colab": {
          "base_uri": "https://localhost:8080/"
        },
        "id": "B2vQCJXXTujx",
        "outputId": "5bbf1bc8-0017-425c-a054-167196387e0c"
      },
      "execution_count": null,
      "outputs": [
        {
          "output_type": "stream",
          "name": "stdout",
          "text": [
            "Accuracy score uncertainty sampling =  0.9733333333333334\n",
            "Accuracy score margin sampling =  0.6866666666666666\n",
            "Accuracy score entropy sampling =  0.86\n",
            "Accuracy score random sampling =  0.94\n"
          ]
        }
      ]
    },
    {
      "cell_type": "code",
      "source": [],
      "metadata": {
        "id": "HvdUNkqNYy6N"
      },
      "execution_count": null,
      "outputs": []
    }
  ]
}